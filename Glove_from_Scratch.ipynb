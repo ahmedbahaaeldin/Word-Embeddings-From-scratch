{
  "nbformat": 4,
  "nbformat_minor": 0,
  "metadata": {
    "colab": {
      "name": "Glove Scratch.ipynb",
      "version": "0.3.2",
      "provenance": [],
      "collapsed_sections": []
    },
    "kernelspec": {
      "name": "python3",
      "display_name": "Python 3"
    }
  },
  "cells": [
    {
      "cell_type": "markdown",
      "metadata": {
        "id": "hF2uPludMDWy",
        "colab_type": "text"
      },
      "source": [
        "# Importing the important libraries"
      ]
    },
    {
      "cell_type": "code",
      "metadata": {
        "id": "4P_zMnfbxCIK",
        "colab_type": "code",
        "colab": {
          "base_uri": "https://localhost:8080/",
          "height": 52
        },
        "outputId": "3d44d6a2-947b-479a-9749-781780b2fa49"
      },
      "source": [
        "import matplotlib.pyplot as plt\n",
        "plt.rcParams['figure.figsize'] = [10, 5]\n",
        "import nltk\n",
        "nltk.download('reuters')\n",
        "from nltk.corpus import reuters\n",
        "import numpy as np\n",
        "import random\n",
        "import scipy as sp\n",
        "import re"
      ],
      "execution_count": 105,
      "outputs": [
        {
          "output_type": "stream",
          "text": [
            "[nltk_data] Downloading package reuters to /root/nltk_data...\n",
            "[nltk_data]   Package reuters is already up-to-date!\n"
          ],
          "name": "stdout"
        }
      ]
    },
    {
      "cell_type": "markdown",
      "metadata": {
        "id": "jrRg7xO8MJvP",
        "colab_type": "text"
      },
      "source": [
        "# Read Corpus:\n",
        "For reading the reuters dataset\n",
        "\n",
        "# Tokens:\n",
        "To indicate the start and end of sentences"
      ]
    },
    {
      "cell_type": "code",
      "metadata": {
        "id": "ScwkQq8NjN4a",
        "colab_type": "code",
        "colab": {}
      },
      "source": [
        "START_TOKEN = '<START>'\n",
        "END_TOKEN = '<END>'\n",
        "def read_corpus(category=\"crude\"):\n",
        "    files = reuters.fileids(category)\n",
        "    return [[START_TOKEN] + [w.lower() for w in list(reuters.words(f))] + [END_TOKEN] for f in files]"
      ],
      "execution_count": 0,
      "outputs": []
    },
    {
      "cell_type": "markdown",
      "metadata": {
        "id": "cKjEOgVsMYIn",
        "colab_type": "text"
      },
      "source": [
        "# Distinct words:\n",
        "This function takes the corpus as input and do the following sequentially: \n",
        "\n",
        "\n",
        "1.   Remove any non-alphabetic characters and keep < START > < END >\n",
        "2.   Insert the sentences in a \"SET\" as the \"SET\" data structure removes duplicates so we keep track of unique words\n",
        "3.   Order the words alphabetically\n",
        "4.   Return the count to know our vocabulary size\n",
        "\n",
        "\n"
      ]
    },
    {
      "cell_type": "code",
      "metadata": {
        "id": "ru16T9zWEHNJ",
        "colab_type": "code",
        "colab": {}
      },
      "source": [
        "def distinct_words(corpus):\n",
        "    corpus_words = []\n",
        "    num_corpus_words = -1\n",
        "    distinct_set = set()\n",
        "    for sentence in corpus:\n",
        "          #Remove the non-alphabetic characters because they are alot\n",
        "          regex = re.compile(r'[^\\<\\>a-zA-Z]')\n",
        "          sentence = [i for i in sentence if not regex.match(str(i))]\n",
        "          distinct_set.update(sentence)\n",
        "    corpus_words = list(distinct_set)\n",
        "    num_corpus_words = len(distinct_set)\n",
        "    # The test words was in order so this the need for the .sort()\n",
        "    corpus_words.sort()\n",
        "    return corpus_words, num_corpus_words"
      ],
      "execution_count": 0,
      "outputs": []
    },
    {
      "cell_type": "markdown",
      "metadata": {
        "id": "kdJwmxWzNAc7",
        "colab_type": "text"
      },
      "source": [
        "# Co-occurence Matrix:\n",
        "This matrix is constructed by checking the outside words the co-occured with a certain word in a certain window size like for example:\n",
        "Paul is a good guy and he is awesome.\n",
        "Center word : good, Outside words with window size = 2 : is,a -> left window guy ,and -> right window"
      ]
    },
    {
      "cell_type": "code",
      "metadata": {
        "id": "ppl4HFcfh7wV",
        "colab_type": "code",
        "colab": {}
      },
      "source": [
        "def compute_co_occurrence_matrix(corpus, window_size=4):\n",
        "    words, num_words = distinct_words(corpus)\n",
        "    M = np.zeros((num_words,num_words))\n",
        "    word2Ind = {}\n",
        "    Ind2word = {}\n",
        "    for i, word in enumerate(words):\n",
        "        word2Ind[word] = i\n",
        "        Ind2word[i] = word\n",
        "    for sentence in corpus:\n",
        "        regex = re.compile(r'[^\\<\\>a-zA-Z]')\n",
        "        sentence = [i for i in sentence if not regex.match(i)]\n",
        "        for i,word in enumerate(sentence):\n",
        "            center_word_id = word2Ind[word]\n",
        "            window_ids = list(range(max(0,i - window_size),i)) + list(range(i+1,min(i+window_size+1,len(sentence))))\n",
        "            for j in window_ids:\n",
        "                out_word = sentence[j]\n",
        "                out_word_id = word2Ind[out_word]\n",
        "                M[center_word_id][out_word_id] += 1\n",
        "    \n",
        "    return M, word2Ind, Ind2word"
      ],
      "execution_count": 0,
      "outputs": []
    },
    {
      "cell_type": "markdown",
      "metadata": {
        "id": "cfLTCQN3NgT9",
        "colab_type": "text"
      },
      "source": [
        "# Create the dataset for the model where each X corresponds to the center word and each Y corresponds to a context word corresponding to that center word"
      ]
    },
    {
      "cell_type": "code",
      "metadata": {
        "id": "dQOdu7Sdugf-",
        "colab_type": "code",
        "colab": {}
      },
      "source": [
        "def Create_Dataset(word2Ind,tokens,window_size=4):\n",
        "    X,Y = [],[]\n",
        "   \n",
        "    for line in tokens:\n",
        "        regex = re.compile(r'[^\\<\\>a-zA-Z]')\n",
        "        line = [k for k in line if not regex.match(k)]\n",
        "        N = len(line)\n",
        "        for i,word in enumerate(line):\n",
        "            window = list(range(max(0,i-window_size),i)) + list(range(i+1,min(i+window_size+1,N)))\n",
        "            for j in window:\n",
        "              X.append(word2Ind[line[i]])\n",
        "              Y.append(word2Ind[line[j]])\n",
        "            \n",
        "    X = np.array(X)\n",
        "    Y = np.array(Y)\n",
        "    return X,Y"
      ],
      "execution_count": 0,
      "outputs": []
    },
    {
      "cell_type": "markdown",
      "metadata": {
        "id": "x5FndivFN7v9",
        "colab_type": "text"
      },
      "source": [
        "# Create the embedding matrices for W_i and W_j , center words and context words matrices respectively"
      ]
    },
    {
      "cell_type": "code",
      "metadata": {
        "id": "JIo2AVvLmJR2",
        "colab_type": "code",
        "colab": {}
      },
      "source": [
        "def create_center_word_matrix(Vocab_size,Embed_size):\n",
        "    return np.random.randn(Vocab_size,Embed_size) * 0.01\n",
        "  \n",
        "def create_context_word_matrix(Vocab_size,Embed_size):\n",
        "    return np.random.randn(Embed_size,Vocab_size) * 0.01\n",
        "  \n",
        "def create_bias_center_word(Vocab_size):\n",
        "    return np.random.randn(Vocab_size) * 0.01\n",
        "\n",
        "def create_bias_out_word(Vocab_size):\n",
        "    return np.random.randn(Vocab_size) * 0.01\n",
        "    \n",
        "def create_weight_matrices(Vocab_size,Embed_size):\n",
        "    Weight_Parameters = {}\n",
        "    bias_Parameters = {}\n",
        "    Weight_Parameters['Center'] = create_center_word_matrix(Vocab_size,Embed_size)\n",
        "    Weight_Parameters['Context'] = create_context_word_matrix(Vocab_size,Embed_size)\n",
        "    bias_Parameters['Center'] = create_bias_center_word(Vocab_size)\n",
        "    bias_Parameters['Context'] = create_bias_out_word(Vocab_size)\n",
        "    return Weight_Parameters, bias_Parameters"
      ],
      "execution_count": 0,
      "outputs": []
    },
    {
      "cell_type": "markdown",
      "metadata": {
        "id": "s6uCaNwQOExH",
        "colab_type": "text"
      },
      "source": [
        "# This part is according to the paper weighting factor $\n",
        "\\begin{aligned}\n",
        "    \\textit{f}({X_{ij}}) &= (x / x_{max}) ^\\alpha  \\ if x < x_{max}\\\\        \n",
        "     &=  1 \\ otherwise\n",
        "  \\end{aligned}$\n"
      ]
    },
    {
      "cell_type": "code",
      "metadata": {
        "id": "9HpateCeumvR",
        "colab_type": "code",
        "colab": {}
      },
      "source": [
        "def Weightening_function(cooccurence_matrix,Center_word,Out_word,X_max = 100,alpha=0.75):\n",
        "    X = cooccurence_matrix[Center_word,Out_word]\n",
        "    if X > X_max: \n",
        "      return 1\n",
        "    elif X_max >= X:\n",
        "      eq = (X/X_max) ** alpha\n",
        "      return eq\n",
        "    \n",
        "def dot_product_add_bias(Center_word,Out_word,W_Parameters,b_Parameters):\n",
        "    W_C_matrix,W_O_matrix = W_Parameters['Center'],W_Parameters['Context']\n",
        "    b_C , b_O = b_Parameters['Center'], b_Parameters['Context']\n",
        "    Dot_product = np.dot(W_C_matrix[Center_word,:],W_O_matrix[:,Out_word])\n",
        "    return Dot_product + b_C[Center_word] + b_O[Out_word]"
      ],
      "execution_count": 0,
      "outputs": []
    },
    {
      "cell_type": "markdown",
      "metadata": {
        "id": "_zm_mypkaFZf",
        "colab_type": "text"
      },
      "source": [
        "# Forward Pass"
      ]
    },
    {
      "cell_type": "code",
      "metadata": {
        "id": "0AKgbt0KSiCo",
        "colab_type": "code",
        "colab": {}
      },
      "source": [
        "def Forward(cooccurence_matrix,Center_word,Out_word,W_Parameters, b_Parameters,Embed_size):\n",
        "    F = Weightening_function(cooccurence_matrix,Center_word,Out_word)\n",
        "    Skip_gram_part = dot_product_add_bias(Center_word,Out_word,W_Parameters, b_Parameters)\n",
        "    Co_occurence_part = cooccurence_matrix[Center_word,Out_word]\n",
        "    Difference = Skip_gram_part - np.log(Co_occurence_part)\n",
        "    return F,Difference"
      ],
      "execution_count": 0,
      "outputs": []
    },
    {
      "cell_type": "markdown",
      "metadata": {
        "id": "c0z1hvSJaICM",
        "colab_type": "text"
      },
      "source": [
        "# Derivatives \n",
        "$\n",
        "J = \\sum\\sum\\textit{f}({X_{ij}}) (w_iw_j^T + b_i + b_j- \\log{X_{ij}})^2\n",
        "\\\\\n",
        "\\frac{\\partial J}{\\partial w_i} = w_j \\textit{f}({X_{ij}}) (w_iw_j^T + b_i + b_j- \\log{X_{ij}})\n",
        "\\\\\n",
        "\\frac{\\partial J}{\\partial w_j} = w_i \\textit{f}({X_{ij}}) (w_iw_j^T + b_i + b_j- \\log{X_{ij}})\n",
        "\\\\\n",
        "\\frac{\\partial J}{\\partial b_i} = \\textit{f}({X_{ij}}) (w_iw_j^T + b_i + b_j- \\log{X_{ij}})\n",
        "\\\\\n",
        "\\frac{\\partial J}{\\partial b_j}= \\textit{f}({X_{ij}}) (w_iw_j^T + b_i + b_j- \\log{X_{ij}})\n",
        "$"
      ]
    },
    {
      "cell_type": "code",
      "metadata": {
        "id": "uLC4stiyI4N2",
        "colab_type": "code",
        "colab": {}
      },
      "source": [
        "def Weight_i_Derivative(W_Parameters,F,Difference,Out_word):\n",
        "    W_J = W_Parameters['Context'][:,Out_word]\n",
        "    return W_J * F * Difference\n",
        "  \n",
        "def Weight_j_Derivative(W_Parameters,F,Difference,Center_word):\n",
        "    W_I = W_Parameters['Center'][Center_word,:]\n",
        "    return W_I * F * Difference\n",
        "\n",
        "def Bias_i_j_Derivative(F,Difference):\n",
        "    return F * Difference"
      ],
      "execution_count": 0,
      "outputs": []
    },
    {
      "cell_type": "markdown",
      "metadata": {
        "id": "qFxNUAzod0fr",
        "colab_type": "text"
      },
      "source": [
        "# Update Parameters is the gradient descent step\n",
        "$\n",
        "w_i = w_i - \\alpha \\frac{\\partial J}{\\partial w_i} \\\\\n",
        "w_j = w_j - \\alpha \\frac{\\partial J}{\\partial w_j} \\\\\n",
        "b_i = b_i - \\alpha \\frac{\\partial J}{\\partial b_i} \\\\\n",
        "b_j = b_j - \\alpha \\frac{\\partial J}{\\partial b_j} \n",
        "$"
      ]
    },
    {
      "cell_type": "code",
      "metadata": {
        "id": "cecT1FGrTq5o",
        "colab_type": "code",
        "colab": {}
      },
      "source": [
        "def Compute_Derivative(W_Parameters,F,Difference,Center_word,Out_word):\n",
        "    Caches = {}\n",
        "    d_W_I = Weight_i_Derivative(W_Parameters,F,Difference,Out_word)\n",
        "    d_W_J = Weight_j_Derivative(W_Parameters,F,Difference,Center_word)\n",
        "    \n",
        "    d_b_I = Bias_i_j_Derivative(F,Difference)\n",
        "    d_b_J = Bias_i_j_Derivative(F,Difference)\n",
        "    \n",
        "    Caches['d_W_I'] = d_W_I\n",
        "    Caches['d_W_J'] = d_W_J\n",
        "    Caches['d_b_I'] = d_b_I\n",
        "    Caches['d_b_J'] = d_b_J\n",
        "    return Caches\n",
        "\n",
        "def Loss(F,Difference):\n",
        "    return F * (Difference**2)\n",
        "  \n",
        "def Update_Parameters(W_Parameters,b_Parameters,Center_word,Out_word,F,Difference,learning_rate):\n",
        "    \n",
        "    Caches = Compute_Derivative(W_Parameters,F,Difference,Center_word,Out_word)\n",
        "    \n",
        "    W_I = W_Parameters['Center']\n",
        "    W_J = W_Parameters['Context']\n",
        "    B_I = b_Parameters['Center']\n",
        "    B_J = b_Parameters['Context']\n",
        "    \n",
        "    w_i = W_I[Center_word,:]\n",
        "    w_j = W_J[:,Out_word]\n",
        "    b_i = B_I[Center_word]\n",
        "    b_j = B_J[Out_word]\n",
        "    \n",
        "    w_i = w_i - learning_rate * Caches['d_W_I']\n",
        "    w_j = w_j - learning_rate * Caches['d_W_J']\n",
        "    b_i = b_i - learning_rate * Caches['d_b_I']\n",
        "    b_j = b_j - learning_rate * Caches['d_b_J']\n",
        "    \n",
        "    W_Parameters['Center'][Center_word,:] = w_i\n",
        "    W_Parameters['Context'][:,Out_word] = w_j\n",
        "    b_Parameters['Center'][Center_word] = b_i\n",
        "    b_Parameters['Context'][Out_word] = b_j"
      ],
      "execution_count": 0,
      "outputs": []
    },
    {
      "cell_type": "code",
      "metadata": {
        "id": "azp14ZcfKjq0",
        "colab_type": "code",
        "colab": {}
      },
      "source": [
        "def Train(Epochs,Embed_size,learning_rate):\n",
        "    corpus = read_corpus()\n",
        "    _ , vocab_size = distinct_words(corpus)\n",
        "    W_Parameters, b_Parameters = create_weight_matrices(vocab_size,Embed_size)\n",
        "    M, word2Ind, Ind2word = compute_co_occurrence_matrix(corpus)\n",
        "    template = \"Epoch {} : Loss is {}\"\n",
        "    X,Y = Create_Dataset(word2Ind,corpus)\n",
        "    losses = []\n",
        "    for Epoch in range(Epochs):\n",
        "        loss = 0\n",
        "        for center_word,out_word in zip(X,Y):\n",
        "            F, Difference = Forward(M,center_word,out_word,W_Parameters,b_Parameters,Embed_size)\n",
        "            loss = loss + Loss(F,Difference)\n",
        "            Update_Parameters(W_Parameters,b_Parameters,center_word,out_word,F,Difference,learning_rate)\n",
        "        \n",
        "        losses.append(loss/len(X))\n",
        "        print(template.format(Epoch+1,\n",
        "                             loss/len(X)))\n",
        "    return losses,W_Parameters   "
      ],
      "execution_count": 0,
      "outputs": []
    },
    {
      "cell_type": "code",
      "metadata": {
        "id": "6swXdYTZ_0rn",
        "colab_type": "code",
        "colab": {
          "base_uri": "https://localhost:8080/",
          "height": 364
        },
        "outputId": "e8be044e-cd31-4e4b-dc6e-ee7abebcdf6f"
      },
      "source": [
        "losses,W_Parameters=Train(20,300,0.1)"
      ],
      "execution_count": 187,
      "outputs": [
        {
          "output_type": "stream",
          "text": [
            "Epoch 1 : Loss is 0.03914038243948939\n",
            "Epoch 2 : Loss is 0.014211566302360713\n",
            "Epoch 3 : Loss is 0.010233110098059103\n",
            "Epoch 4 : Loss is 0.008203713622388685\n",
            "Epoch 5 : Loss is 0.0069180025300665405\n",
            "Epoch 6 : Loss is 0.0059978719350842575\n",
            "Epoch 7 : Loss is 0.005312295793822118\n",
            "Epoch 8 : Loss is 0.00478576024378802\n",
            "Epoch 9 : Loss is 0.004358549467366621\n",
            "Epoch 10 : Loss is 0.0039962364756629\n",
            "Epoch 11 : Loss is 0.0036887386080486904\n",
            "Epoch 12 : Loss is 0.003419047387276843\n",
            "Epoch 13 : Loss is 0.0031838669935071316\n",
            "Epoch 14 : Loss is 0.0029782962115046372\n",
            "Epoch 15 : Loss is 0.0027977994886596363\n",
            "Epoch 16 : Loss is 0.0026506704841303035\n",
            "Epoch 17 : Loss is 0.0024936099573012183\n",
            "Epoch 18 : Loss is 0.002379360689734717\n",
            "Epoch 19 : Loss is 0.0022350380061435518\n",
            "Epoch 20 : Loss is 0.0021390386386778244\n"
          ],
          "name": "stdout"
        }
      ]
    },
    {
      "cell_type": "code",
      "metadata": {
        "id": "7CO5oS2ZelHq",
        "colab_type": "code",
        "colab": {
          "base_uri": "https://localhost:8080/",
          "height": 323
        },
        "outputId": "59ba43b4-c9d0-40a7-a8c1-65fe39683e46"
      },
      "source": [
        "plt.figure()\n",
        "plt.plot(losses)\n",
        "plt.show()"
      ],
      "execution_count": 188,
      "outputs": [
        {
          "output_type": "display_data",
          "data": {
            "image/png": "[encoded data removed]",
            "text/plain": [
              "<Figure size 720x360 with 1 Axes>"
            ]
          },
          "metadata": {
            "tags": []
          }
        }
      ]
    },
    {
      "cell_type": "code",
      "metadata": {
        "id": "ZCtqsfpN1ucy",
        "colab_type": "code",
        "colab": {
          "base_uri": "https://localhost:8080/",
          "height": 35
        },
        "outputId": "279ed66d-66e7-453b-fb08-955ec53c9431"
      },
      "source": [
        "corpus = read_corpus()\n",
        "M, word2Ind, Ind2word = compute_co_occurrence_matrix(corpus)\n",
        "Total_W_Parameters = (W_Parameters['Center'] + W_Parameters['Context'].T)/2\n",
        "Total_W_Parameters.shape"
      ],
      "execution_count": 189,
      "outputs": [
        {
          "output_type": "execute_result",
          "data": {
            "text/plain": [
              "(7597, 300)"
            ]
          },
          "metadata": {
            "tags": []
          },
          "execution_count": 189
        }
      ]
    },
    {
      "cell_type": "code",
      "metadata": {
        "id": "eWs3lEqQ1yUU",
        "colab_type": "code",
        "colab": {
          "base_uri": "https://localhost:8080/",
          "height": 35
        },
        "outputId": "d0980314-9a95-46e7-8141-32eedf54bd10"
      },
      "source": [
        "print(np.dot(Total_W_Parameters[word2Ind['oil'],:],Total_W_Parameters[word2Ind['petroleum'],:]))"
      ],
      "execution_count": 204,
      "outputs": [
        {
          "output_type": "execute_result",
          "data": {
            "text/plain": [
              "2.3263744171773086"
            ]
          },
          "metadata": {
            "tags": []
          },
          "execution_count": 204
        }
      ]
    },
    {
      "cell_type": "code",
      "metadata": {
        "id": "2-e_JU-mLJH5",
        "colab_type": "code",
        "colab": {
          "base_uri": "https://localhost:8080/",
          "height": 35
        },
        "outputId": "800596db-a08c-4d75-bd9a-fe11f326955e"
      },
      "source": [
        "print(np.dot(Total_W_Parameters[word2Ind['water'],:],Total_W_Parameters[word2Ind['island'],:]))"
      ],
      "execution_count": 209,
      "outputs": [
        {
          "output_type": "stream",
          "text": [
            "-0.04208639632028421\n"
          ],
          "name": "stdout"
        }
      ]
    },
    {
      "cell_type": "code",
      "metadata": {
        "id": "ndDiXtSSLXhh",
        "colab_type": "code",
        "colab": {}
      },
      "source": [
        ""
      ],
      "execution_count": 0,
      "outputs": []
    }
  ]
}